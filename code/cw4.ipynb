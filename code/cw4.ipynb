{
 "cells": [
  {
   "cell_type": "code",
   "execution_count": 63,
   "id": "worthy-association",
   "metadata": {},
   "outputs": [],
   "source": [
    "import numpy\n",
    "import numpy as np\n",
    "import pandas as pd\n",
    "import matplotlib.pyplot as plt\n"
   ]
  },
  {
   "cell_type": "code",
   "execution_count": 161,
   "id": "limiting-residence",
   "metadata": {},
   "outputs": [],
   "source": [
    "import statsmodels.api as sm\n",
    "from statsmodels.tsa.arima_model import ARIMA\n",
    "from statsmodels.graphics.tsaplots import plot_acf\n",
    "from statsmodels.graphics.tsaplots import plot_pacf\n",
    "from statsmodels.tsa.seasonal import seasonal_decompose"
   ]
  },
  {
   "cell_type": "code",
   "execution_count": 3,
   "id": "vulnerable-pipeline",
   "metadata": {},
   "outputs": [],
   "source": [
    "sp500_2013_2018 = pd.read_csv('sp500_data/SP500.csv')"
   ]
  },
  {
   "cell_type": "code",
   "execution_count": 57,
   "id": "endless-proportion",
   "metadata": {},
   "outputs": [
    {
     "name": "stdout",
     "output_type": "stream",
     "text": [
      "         Date        Open        High         Low       Close   Adj Close  \\\n",
      "0  1990-12-31  328.709991  330.230011  327.500000  330.220001  330.220001   \n",
      "1  1991-01-02  330.200012  330.750000  326.450012  326.450012  326.450012   \n",
      "2  1991-01-03  326.459991  326.529999  321.899994  321.910004  321.910004   \n",
      "3  1991-01-04  321.910004  322.350006  318.869995  321.000000  321.000000   \n",
      "4  1991-01-07  320.970001  320.970001  315.440002  315.440002  315.440002   \n",
      "\n",
      "      Volume  \n",
      "0  114130000  \n",
      "1  126280000  \n",
      "2  141450000  \n",
      "3  140820000  \n",
      "4  130610000  \n"
     ]
    }
   ],
   "source": [
    "print(sp500_2013_2018.head()) "
   ]
  },
  {
   "cell_type": "code",
   "execution_count": 58,
   "id": "limited-directive",
   "metadata": {},
   "outputs": [
    {
     "data": {
      "text/html": [
       "<div>\n",
       "<style scoped>\n",
       "    .dataframe tbody tr th:only-of-type {\n",
       "        vertical-align: middle;\n",
       "    }\n",
       "\n",
       "    .dataframe tbody tr th {\n",
       "        vertical-align: top;\n",
       "    }\n",
       "\n",
       "    .dataframe thead th {\n",
       "        text-align: right;\n",
       "    }\n",
       "</style>\n",
       "<table border=\"1\" class=\"dataframe\">\n",
       "  <thead>\n",
       "    <tr style=\"text-align: right;\">\n",
       "      <th></th>\n",
       "      <th>High</th>\n",
       "      <th>Low</th>\n",
       "      <th>mean</th>\n",
       "    </tr>\n",
       "    <tr>\n",
       "      <th>Date</th>\n",
       "      <th></th>\n",
       "      <th></th>\n",
       "      <th></th>\n",
       "    </tr>\n",
       "  </thead>\n",
       "  <tbody>\n",
       "    <tr>\n",
       "      <th>1990-12-31</th>\n",
       "      <td>330.230011</td>\n",
       "      <td>327.500000</td>\n",
       "      <td>328.865005</td>\n",
       "    </tr>\n",
       "    <tr>\n",
       "      <th>1991-01-02</th>\n",
       "      <td>330.750000</td>\n",
       "      <td>326.450012</td>\n",
       "      <td>328.600006</td>\n",
       "    </tr>\n",
       "    <tr>\n",
       "      <th>1991-01-03</th>\n",
       "      <td>326.529999</td>\n",
       "      <td>321.899994</td>\n",
       "      <td>324.214996</td>\n",
       "    </tr>\n",
       "    <tr>\n",
       "      <th>1991-01-04</th>\n",
       "      <td>322.350006</td>\n",
       "      <td>318.869995</td>\n",
       "      <td>320.610001</td>\n",
       "    </tr>\n",
       "    <tr>\n",
       "      <th>1991-01-07</th>\n",
       "      <td>320.970001</td>\n",
       "      <td>315.440002</td>\n",
       "      <td>318.205001</td>\n",
       "    </tr>\n",
       "    <tr>\n",
       "      <th>...</th>\n",
       "      <td>...</td>\n",
       "      <td>...</td>\n",
       "      <td>...</td>\n",
       "    </tr>\n",
       "    <tr>\n",
       "      <th>2017-10-13</th>\n",
       "      <td>2557.649902</td>\n",
       "      <td>2552.090088</td>\n",
       "      <td>2554.869995</td>\n",
       "    </tr>\n",
       "    <tr>\n",
       "      <th>2017-10-16</th>\n",
       "      <td>2559.469971</td>\n",
       "      <td>2552.639893</td>\n",
       "      <td>2556.054932</td>\n",
       "    </tr>\n",
       "    <tr>\n",
       "      <th>2017-10-17</th>\n",
       "      <td>2559.709961</td>\n",
       "      <td>2554.689941</td>\n",
       "      <td>2557.199951</td>\n",
       "    </tr>\n",
       "    <tr>\n",
       "      <th>2017-10-18</th>\n",
       "      <td>2564.110107</td>\n",
       "      <td>2559.669922</td>\n",
       "      <td>2561.890014</td>\n",
       "    </tr>\n",
       "    <tr>\n",
       "      <th>2017-10-19</th>\n",
       "      <td>2562.360107</td>\n",
       "      <td>2547.919922</td>\n",
       "      <td>2555.140014</td>\n",
       "    </tr>\n",
       "  </tbody>\n",
       "</table>\n",
       "<p>6755 rows × 3 columns</p>\n",
       "</div>"
      ],
      "text/plain": [
       "                   High          Low         mean\n",
       "Date                                             \n",
       "1990-12-31   330.230011   327.500000   328.865005\n",
       "1991-01-02   330.750000   326.450012   328.600006\n",
       "1991-01-03   326.529999   321.899994   324.214996\n",
       "1991-01-04   322.350006   318.869995   320.610001\n",
       "1991-01-07   320.970001   315.440002   318.205001\n",
       "...                 ...          ...          ...\n",
       "2017-10-13  2557.649902  2552.090088  2554.869995\n",
       "2017-10-16  2559.469971  2552.639893  2556.054932\n",
       "2017-10-17  2559.709961  2554.689941  2557.199951\n",
       "2017-10-18  2564.110107  2559.669922  2561.890014\n",
       "2017-10-19  2562.360107  2547.919922  2555.140014\n",
       "\n",
       "[6755 rows x 3 columns]"
      ]
     },
     "execution_count": 58,
     "metadata": {},
     "output_type": "execute_result"
    }
   ],
   "source": [
    "sp500_high_low"
   ]
  },
  {
   "cell_type": "code",
   "execution_count": 67,
   "id": "reasonable-detector",
   "metadata": {},
   "outputs": [],
   "source": [
    "#获取 Train Test 数据集\n",
    "sp500_date = sp500_2013_2018['Date']\n",
    "sp500_high_low = sp500_2013_2018.loc[:,['High','Low']]\n",
    "sp500_high_low = sp500_high_low.set_index(sp500_date)\n",
    "sp500_high_low['mean'] = sp500_high_low[['High','Low']].mean(axis=1)\n",
    "\n",
    "sp500_Train = sp500_high_low.loc[:,['mean']]\n",
    "sp500_Test =  sp500_high_low.loc[:,['mean']][6001:]\n",
    "sp500_Test_Input = sp500_2013_2018.loc[:,['Date']][6001:]"
   ]
  },
  {
   "cell_type": "code",
   "execution_count": 81,
   "id": "hollow-marshall",
   "metadata": {},
   "outputs": [
    {
     "data": {
      "text/plain": [
       "[<matplotlib.lines.Line2D at 0x1699757c6a0>]"
      ]
     },
     "execution_count": 81,
     "metadata": {},
     "output_type": "execute_result"
    },
    {
     "data": {
      "image/png": "[encoded data removed]",
      "text/plain": [
       "<Figure size 432x288 with 1 Axes>"
      ]
     },
     "metadata": {
      "needs_background": "light"
     },
     "output_type": "display_data"
    }
   ],
   "source": [
    "sp500_mean_log = np.log(sp500_high_low.loc[:,['mean']])\n",
    "plt.plot(sp500_Train.iloc[:100])"
   ]
  },
  {
   "cell_type": "code",
   "execution_count": 107,
   "id": "dutch-subdivision",
   "metadata": {},
   "outputs": [],
   "source": [
    "\n",
    "# 移动平均图\n",
    "def draw_trend(timeseries, size):\n",
    "    f = plt.figure(facecolor='white')\n",
    "    # 对size个数据进行移动平均\n",
    "    rol_mean = timeseries.rolling(window=size).mean()\n",
    "    # 对size个数据移动平均的方差\n",
    "    rol_std = timeseries.rolling(window=size).std()\n",
    " \n",
    "    timeseries.plot(color='blue', label='Original')\n",
    "    rol_mean.plot(color='red', label='Rolling Mean')\n",
    "    rol_std.plot(color='black', label='Rolling standard deviation')\n",
    "    plt.legend(loc='best')\n",
    "    plt.title('Rolling Mean & Standard Deviation')\n",
    "    plt.show()\n",
    " \n",
    "def draw_ts(timeseries):\n",
    "    f = plt.figure(facecolor='white')\n",
    "    timeseries.plot(color='blue')\n",
    "    plt.show()\n",
    "\n",
    "def teststationarity(ts):\n",
    "    dftest = adfuller(ts)\n",
    "    # 对上述函数求得的值进行语义描述\n",
    "    dfoutput = pd.Series(dftest[0:4], index=['Test Statistic','p-value','#Lags Used','Number of Observations Used'])\n",
    "    for key,value in dftest[4].items():\n",
    "        dfoutput['Critical Value (%s)'%key] = value\n",
    "    return dfoutput\n",
    "\n",
    "def decompose(timeseries):\n",
    "    \n",
    "    # 返回包含三个部分 trend（趋势部分） ， seasonal（季节性部分） 和residual (残留部分)\n",
    "    decomposition = seasonal_decompose(timeseries)\n",
    "    \n",
    "    trend = decomposition.trend\n",
    "    seasonal = decomposition.seasonal\n",
    "    residual = decomposition.resid\n",
    "    \n",
    "    plt.subplot(411)\n",
    "    plt.plot(ts_log, label='Original')\n",
    "    plt.legend(loc='best')\n",
    "    plt.subplot(412)\n",
    "    plt.plot(trend, label='Trend')\n",
    "    plt.legend(loc='best')\n",
    "    plt.subplot(413)\n",
    "    plt.plot(seasonal,label='Seasonality')\n",
    "    plt.legend(loc='best')\n",
    "    plt.subplot(414)\n",
    "    plt.plot(residual, label='Residuals')\n",
    "    plt.legend(loc='best')\n",
    "    plt.tight_layout()\n",
    "    plt.show()\n",
    "    return trend , seasonal, residual\n",
    "\n",
    "def draw_moving(timeSeries, size):\n",
    "    f = plt.figure(facecolor='white')\n",
    "    # 对size个数据进行移动平均\n",
    "    rol_mean = timeSeries.rolling(window=size).mean()\n",
    "    # 对size个数据进行加权移动平均\n",
    "    #rol_weighted_mean = pd.ewma(timeSeries, span=size)\n",
    "    rol_weighted_mean=timeSeries.ewm(halflife=size,min_periods=0,adjust=True,ignore_na=False).mean()\n",
    " \n",
    "    timeSeries.plot(color='blue', label='Original')\n",
    "    rol_mean.plot(color='red', label='Rolling Mean')\n",
    "    rol_weighted_mean.plot(color='black', label='Weighted Rolling Mean')\n",
    "    plt.legend(loc='best')\n",
    "    plt.title('Rolling Mean')\n"
   ]
  },
  {
   "cell_type": "code",
   "execution_count": 109,
   "id": "illegal-event",
   "metadata": {},
   "outputs": [
    {
     "data": {
      "text/plain": [
       "<Figure size 432x288 with 0 Axes>"
      ]
     },
     "metadata": {},
     "output_type": "display_data"
    },
    {
     "data": {
      "image/png": "[encoded data removed]",
      "text/plain": [
       "<Figure size 432x288 with 1 Axes>"
      ]
     },
     "metadata": {
      "needs_background": "light"
     },
     "output_type": "display_data"
    },
    {
     "data": {
      "image/png": "[encoded data removed]",
      "text/plain": [
       "<Figure size 432x288 with 1 Axes>"
      ]
     },
     "metadata": {
      "needs_background": "light"
     },
     "output_type": "display_data"
    },
    {
     "data": {
      "image/png": "[encoded data removed]",
      "text/plain": [
       "<Figure size 432x288 with 1 Axes>"
      ]
     },
     "metadata": {
      "needs_background": "light"
     },
     "output_type": "display_data"
    }
   ],
   "source": [
    "draw_moving(sp500_mean_log,30)"
   ]
  },
  {
   "cell_type": "code",
   "execution_count": 98,
   "id": "recreational-document",
   "metadata": {},
   "outputs": [
    {
     "data": {
      "text/plain": [
       "<Figure size 432x288 with 0 Axes>"
      ]
     },
     "metadata": {},
     "output_type": "display_data"
    },
    {
     "data": {
      "image/png": "[encoded data removed]",
      "text/plain": [
       "<Figure size 432x288 with 1 Axes>"
      ]
     },
     "metadata": {
      "needs_background": "light"
     },
     "output_type": "display_data"
    },
    {
     "data": {
      "image/png": "[encoded data removed]",
      "text/plain": [
       "<Figure size 432x288 with 1 Axes>"
      ]
     },
     "metadata": {
      "needs_background": "light"
     },
     "output_type": "display_data"
    },
    {
     "data": {
      "image/png": "[encoded data removed]",
      "text/plain": [
       "<Figure size 432x288 with 1 Axes>"
      ]
     },
     "metadata": {
      "needs_background": "light"
     },
     "output_type": "display_data"
    }
   ],
   "source": [
    "draw_trend(sp500_mean_log,30)"
   ]
  },
  {
   "cell_type": "code",
   "execution_count": 162,
   "id": "acquired-elimination",
   "metadata": {},
   "outputs": [
    {
     "data": {
      "image/png": "[encoded data removed]",
      "text/plain": [
       "<Figure size 432x288 with 1 Axes>"
      ]
     },
     "execution_count": 162,
     "metadata": {},
     "output_type": "execute_result"
    },
    {
     "data": {
      "image/png": "[encoded data removed]",
      "text/plain": [
       "<Figure size 432x288 with 1 Axes>"
      ]
     },
     "metadata": {
      "needs_background": "light"
     },
     "output_type": "display_data"
    }
   ],
   "source": [
    "diff_1 = sp500_mean_log.diff(1)\n",
    "diff_1.dropna(inplace=True)\n",
    "sm.tsa.adfuller(diff_1)\n",
    "\n",
    "plot_pacf(diff_1)"
   ]
  },
  {
   "cell_type": "code",
   "execution_count": 164,
   "id": "monetary-compiler",
   "metadata": {},
   "outputs": [
    {
     "data": {
      "image/png": "[encoded data removed]",
      "text/plain": [
       "<Figure size 432x288 with 1 Axes>"
      ]
     },
     "execution_count": 164,
     "metadata": {},
     "output_type": "execute_result"
    },
    {
     "data": {
      "image/png": "[encoded data removed]",
      "text/plain": [
       "<Figure size 432x288 with 1 Axes>"
      ]
     },
     "metadata": {
      "needs_background": "light"
     },
     "output_type": "display_data"
    }
   ],
   "source": [
    "plot_acf(diff_1)"
   ]
  },
  {
   "cell_type": "code",
   "execution_count": 97,
   "id": "raising-bottle",
   "metadata": {
    "scrolled": false
   },
   "outputs": [
    {
     "data": {
      "text/plain": [
       "(-1.2196876149777482,\n",
       " 0.6650697805637493,\n",
       " 35,\n",
       " 6719,\n",
       " {'1%': -3.431323627034967,\n",
       "  '5%': -2.861970262098559,\n",
       "  '10%': -2.566999024865034},\n",
       " -45537.33348771917)"
      ]
     },
     "execution_count": 97,
     "metadata": {},
     "output_type": "execute_result"
    }
   ],
   "source": [
    "#sm.tsa.adfuller(sp500_Train)\n",
    "#sm.tsa.adfuller(preds)\n",
    "sm.tsa.adfuller(sp500_mean_log)\n",
    "#sm.tsa.adfuller(sp500_Train,regression='ct')"
   ]
  },
  {
   "cell_type": "code",
   "execution_count": 199,
   "id": "preliminary-series",
   "metadata": {
    "scrolled": false
   },
   "outputs": [
    {
     "name": "stderr",
     "output_type": "stream",
     "text": [
      "d:\\miniconda\\lib\\site-packages\\statsmodels\\tsa\\arima_model.py:472: FutureWarning: \n",
      "statsmodels.tsa.arima_model.ARMA and statsmodels.tsa.arima_model.ARIMA have\n",
      "been deprecated in favor of statsmodels.tsa.arima.model.ARIMA (note the .\n",
      "between arima and model) and\n",
      "statsmodels.tsa.SARIMAX. These will be removed after the 0.12 release.\n",
      "\n",
      "statsmodels.tsa.arima.model.ARIMA makes use of the statespace framework and\n",
      "is both well tested and maintained.\n",
      "\n",
      "To silence this warning and continue using ARMA and ARIMA until they are\n",
      "removed, use:\n",
      "\n",
      "import warnings\n",
      "warnings.filterwarnings('ignore', 'statsmodels.tsa.arima_model.ARMA',\n",
      "                        FutureWarning)\n",
      "warnings.filterwarnings('ignore', 'statsmodels.tsa.arima_model.ARIMA',\n",
      "                        FutureWarning)\n",
      "\n",
      "  warnings.warn(ARIMA_DEPRECATION_WARN, FutureWarning)\n",
      "d:\\miniconda\\lib\\site-packages\\statsmodels\\tsa\\base\\tsa_model.py:581: ValueWarning: A date index has been provided, but it has no associated frequency information and so will be ignored when e.g. forecasting.\n",
      "  warnings.warn('A date index has been provided, but it has no'\n",
      "d:\\miniconda\\lib\\site-packages\\statsmodels\\tsa\\base\\tsa_model.py:581: ValueWarning: A date index has been provided, but it has no associated frequency information and so will be ignored when e.g. forecasting.\n",
      "  warnings.warn('A date index has been provided, but it has no'\n",
      "d:\\miniconda\\lib\\site-packages\\statsmodels\\tsa\\arima_model.py:472: FutureWarning: \n",
      "statsmodels.tsa.arima_model.ARMA and statsmodels.tsa.arima_model.ARIMA have\n",
      "been deprecated in favor of statsmodels.tsa.arima.model.ARIMA (note the .\n",
      "between arima and model) and\n",
      "statsmodels.tsa.SARIMAX. These will be removed after the 0.12 release.\n",
      "\n",
      "statsmodels.tsa.arima.model.ARIMA makes use of the statespace framework and\n",
      "is both well tested and maintained.\n",
      "\n",
      "To silence this warning and continue using ARMA and ARIMA until they are\n",
      "removed, use:\n",
      "\n",
      "import warnings\n",
      "warnings.filterwarnings('ignore', 'statsmodels.tsa.arima_model.ARMA',\n",
      "                        FutureWarning)\n",
      "warnings.filterwarnings('ignore', 'statsmodels.tsa.arima_model.ARIMA',\n",
      "                        FutureWarning)\n",
      "\n",
      "  warnings.warn(ARIMA_DEPRECATION_WARN, FutureWarning)\n"
     ]
    }
   ],
   "source": [
    "order = (1,1,1)\n",
    "model = ARIMA(sp500_Train, order)\n",
    "fit = model.fit()"
   ]
  },
  {
   "cell_type": "code",
   "execution_count": 200,
   "id": "careful-weekly",
   "metadata": {},
   "outputs": [
    {
     "data": {
      "text/plain": [
       "49726.222802896795"
      ]
     },
     "execution_count": 200,
     "metadata": {},
     "output_type": "execute_result"
    }
   ],
   "source": [
    "fit.aic"
   ]
  },
  {
   "cell_type": "code",
   "execution_count": 201,
   "id": "external-cameroon",
   "metadata": {},
   "outputs": [
    {
     "data": {
      "text/html": [
       "<table class=\"simpletable\">\n",
       "<caption>ARIMA Model Results</caption>\n",
       "<tr>\n",
       "  <th>Dep. Variable:</th>      <td>D.mean</td>      <th>  No. Observations:  </th>    <td>6754</td>   \n",
       "</tr>\n",
       "<tr>\n",
       "  <th>Model:</th>          <td>ARIMA(1, 1, 1)</td>  <th>  Log Likelihood     </th> <td>-24859.111</td>\n",
       "</tr>\n",
       "<tr>\n",
       "  <th>Method:</th>             <td>css-mle</td>     <th>  S.D. of innovations</th>    <td>9.599</td>  \n",
       "</tr>\n",
       "<tr>\n",
       "  <th>Date:</th>          <td>Wed, 24 Mar 2021</td> <th>  AIC                </th>  <td>49726.223</td>\n",
       "</tr>\n",
       "<tr>\n",
       "  <th>Time:</th>              <td>14:02:37</td>     <th>  BIC                </th>  <td>49753.494</td>\n",
       "</tr>\n",
       "<tr>\n",
       "  <th>Sample:</th>                <td>1</td>        <th>  HQIC               </th>  <td>49735.637</td>\n",
       "</tr>\n",
       "<tr>\n",
       "  <th></th>                       <td> </td>        <th>                     </th>      <td> </td>    \n",
       "</tr>\n",
       "</table>\n",
       "<table class=\"simpletable\">\n",
       "<tr>\n",
       "        <td></td>          <th>coef</th>     <th>std err</th>      <th>z</th>      <th>P>|z|</th>  <th>[0.025</th>    <th>0.975]</th>  \n",
       "</tr>\n",
       "<tr>\n",
       "  <th>const</th>        <td>    0.3293</td> <td>    0.149</td> <td>    2.214</td> <td> 0.027</td> <td>    0.038</td> <td>    0.621</td>\n",
       "</tr>\n",
       "<tr>\n",
       "  <th>ar.L1.D.mean</th> <td>   -0.1366</td> <td>    0.032</td> <td>   -4.267</td> <td> 0.000</td> <td>   -0.199</td> <td>   -0.074</td>\n",
       "</tr>\n",
       "<tr>\n",
       "  <th>ma.L1.D.mean</th> <td>    0.4475</td> <td>    0.028</td> <td>   15.777</td> <td> 0.000</td> <td>    0.392</td> <td>    0.503</td>\n",
       "</tr>\n",
       "</table>\n",
       "<table class=\"simpletable\">\n",
       "<caption>Roots</caption>\n",
       "<tr>\n",
       "    <td></td>   <th>            Real</th>  <th>         Imaginary</th> <th>         Modulus</th>  <th>        Frequency</th>\n",
       "</tr>\n",
       "<tr>\n",
       "  <th>AR.1</th> <td>          -7.3225</td> <td>          +0.0000j</td> <td>           7.3225</td> <td>           0.5000</td>\n",
       "</tr>\n",
       "<tr>\n",
       "  <th>MA.1</th> <td>          -2.2346</td> <td>          +0.0000j</td> <td>           2.2346</td> <td>           0.5000</td>\n",
       "</tr>\n",
       "</table>"
      ],
      "text/plain": [
       "<class 'statsmodels.iolib.summary.Summary'>\n",
       "\"\"\"\n",
       "                             ARIMA Model Results                              \n",
       "==============================================================================\n",
       "Dep. Variable:                 D.mean   No. Observations:                 6754\n",
       "Model:                 ARIMA(1, 1, 1)   Log Likelihood              -24859.111\n",
       "Method:                       css-mle   S.D. of innovations              9.599\n",
       "Date:                Wed, 24 Mar 2021   AIC                          49726.223\n",
       "Time:                        14:02:37   BIC                          49753.494\n",
       "Sample:                             1   HQIC                         49735.637\n",
       "                                                                              \n",
       "================================================================================\n",
       "                   coef    std err          z      P>|z|      [0.025      0.975]\n",
       "--------------------------------------------------------------------------------\n",
       "const            0.3293      0.149      2.214      0.027       0.038       0.621\n",
       "ar.L1.D.mean    -0.1366      0.032     -4.267      0.000      -0.199      -0.074\n",
       "ma.L1.D.mean     0.4475      0.028     15.777      0.000       0.392       0.503\n",
       "                                    Roots                                    \n",
       "=============================================================================\n",
       "                  Real          Imaginary           Modulus         Frequency\n",
       "-----------------------------------------------------------------------------\n",
       "AR.1           -7.3225           +0.0000j            7.3225            0.5000\n",
       "MA.1           -2.2346           +0.0000j            2.2346            0.5000\n",
       "-----------------------------------------------------------------------------\n",
       "\"\"\""
      ]
     },
     "execution_count": 201,
     "metadata": {},
     "output_type": "execute_result"
    }
   ],
   "source": [
    "fit.summary()"
   ]
  },
  {
   "cell_type": "code",
   "execution_count": 202,
   "id": "pretty-history",
   "metadata": {},
   "outputs": [],
   "source": [
    "preds = fit.predict(1,6754,typ='levels')"
   ]
  },
  {
   "cell_type": "code",
   "execution_count": 192,
   "id": "soviet-process",
   "metadata": {
    "scrolled": true
   },
   "outputs": [
    {
     "data": {
      "text/plain": [
       "[<matplotlib.lines.Line2D at 0x1699c893b80>]"
      ]
     },
     "execution_count": 192,
     "metadata": {},
     "output_type": "execute_result"
    },
    {
     "data": {
      "image/png": "[encoded data removed]",
      "text/plain": [
       "<Figure size 432x288 with 1 Axes>"
      ]
     },
     "metadata": {
      "needs_background": "light"
     },
     "output_type": "display_data"
    }
   ],
   "source": [
    "\n",
    "plt.plot(preds,label=\"migration time\")\n",
    "plt.plot(sp500_Train.iloc[6600:6754],label=\"request delay\")\n"
   ]
  },
  {
   "cell_type": "code",
   "execution_count": 203,
   "id": "unexpected-johns",
   "metadata": {},
   "outputs": [
    {
     "data": {
      "text/html": [
       "<div>\n",
       "<style scoped>\n",
       "    .dataframe tbody tr th:only-of-type {\n",
       "        vertical-align: middle;\n",
       "    }\n",
       "\n",
       "    .dataframe tbody tr th {\n",
       "        vertical-align: top;\n",
       "    }\n",
       "\n",
       "    .dataframe thead th {\n",
       "        text-align: right;\n",
       "    }\n",
       "</style>\n",
       "<table border=\"1\" class=\"dataframe\">\n",
       "  <thead>\n",
       "    <tr style=\"text-align: right;\">\n",
       "      <th></th>\n",
       "      <th>0</th>\n",
       "    </tr>\n",
       "    <tr>\n",
       "      <th>Date</th>\n",
       "      <th></th>\n",
       "    </tr>\n",
       "  </thead>\n",
       "  <tbody>\n",
       "    <tr>\n",
       "      <th>1991-01-02</th>\n",
       "      <td>329.194309</td>\n",
       "    </tr>\n",
       "    <tr>\n",
       "      <th>1991-01-03</th>\n",
       "      <td>328.768372</td>\n",
       "    </tr>\n",
       "    <tr>\n",
       "      <th>1991-01-04</th>\n",
       "      <td>323.186439</td>\n",
       "    </tr>\n",
       "    <tr>\n",
       "      <th>1991-01-07</th>\n",
       "      <td>320.327705</td>\n",
       "    </tr>\n",
       "    <tr>\n",
       "      <th>1991-01-08</th>\n",
       "      <td>317.958483</td>\n",
       "    </tr>\n",
       "    <tr>\n",
       "      <th>...</th>\n",
       "      <td>...</td>\n",
       "    </tr>\n",
       "    <tr>\n",
       "      <th>2017-10-13</th>\n",
       "      <td>2552.092009</td>\n",
       "    </tr>\n",
       "    <tr>\n",
       "      <th>2017-10-16</th>\n",
       "      <td>2556.070895</td>\n",
       "    </tr>\n",
       "    <tr>\n",
       "      <th>2017-10-17</th>\n",
       "      <td>2556.260241</td>\n",
       "    </tr>\n",
       "    <tr>\n",
       "      <th>2017-10-18</th>\n",
       "      <td>2557.838373</td>\n",
       "    </tr>\n",
       "    <tr>\n",
       "      <th>2017-10-19</th>\n",
       "      <td>2563.436885</td>\n",
       "    </tr>\n",
       "  </tbody>\n",
       "</table>\n",
       "<p>6754 rows × 1 columns</p>\n",
       "</div>"
      ],
      "text/plain": [
       "                      0\n",
       "Date                   \n",
       "1991-01-02   329.194309\n",
       "1991-01-03   328.768372\n",
       "1991-01-04   323.186439\n",
       "1991-01-07   320.327705\n",
       "1991-01-08   317.958483\n",
       "...                 ...\n",
       "2017-10-13  2552.092009\n",
       "2017-10-16  2556.070895\n",
       "2017-10-17  2556.260241\n",
       "2017-10-18  2557.838373\n",
       "2017-10-19  2563.436885\n",
       "\n",
       "[6754 rows x 1 columns]"
      ]
     },
     "execution_count": 203,
     "metadata": {},
     "output_type": "execute_result"
    }
   ],
   "source": [
    "preds.to_frame()"
   ]
  },
  {
   "cell_type": "code",
   "execution_count": 204,
   "id": "charged-reality",
   "metadata": {},
   "outputs": [
    {
     "data": {
      "text/html": [
       "<div>\n",
       "<style scoped>\n",
       "    .dataframe tbody tr th:only-of-type {\n",
       "        vertical-align: middle;\n",
       "    }\n",
       "\n",
       "    .dataframe tbody tr th {\n",
       "        vertical-align: top;\n",
       "    }\n",
       "\n",
       "    .dataframe thead th {\n",
       "        text-align: right;\n",
       "    }\n",
       "</style>\n",
       "<table border=\"1\" class=\"dataframe\">\n",
       "  <thead>\n",
       "    <tr style=\"text-align: right;\">\n",
       "      <th></th>\n",
       "      <th>mean</th>\n",
       "    </tr>\n",
       "    <tr>\n",
       "      <th>Date</th>\n",
       "      <th></th>\n",
       "    </tr>\n",
       "  </thead>\n",
       "  <tbody>\n",
       "    <tr>\n",
       "      <th>1991-01-02</th>\n",
       "      <td>328.600006</td>\n",
       "    </tr>\n",
       "    <tr>\n",
       "      <th>1991-01-03</th>\n",
       "      <td>324.214996</td>\n",
       "    </tr>\n",
       "    <tr>\n",
       "      <th>1991-01-04</th>\n",
       "      <td>320.610001</td>\n",
       "    </tr>\n",
       "    <tr>\n",
       "      <th>1991-01-07</th>\n",
       "      <td>318.205001</td>\n",
       "    </tr>\n",
       "    <tr>\n",
       "      <th>1991-01-08</th>\n",
       "      <td>315.380005</td>\n",
       "    </tr>\n",
       "    <tr>\n",
       "      <th>...</th>\n",
       "      <td>...</td>\n",
       "    </tr>\n",
       "    <tr>\n",
       "      <th>2017-10-13</th>\n",
       "      <td>2554.869995</td>\n",
       "    </tr>\n",
       "    <tr>\n",
       "      <th>2017-10-16</th>\n",
       "      <td>2556.054932</td>\n",
       "    </tr>\n",
       "    <tr>\n",
       "      <th>2017-10-17</th>\n",
       "      <td>2557.199951</td>\n",
       "    </tr>\n",
       "    <tr>\n",
       "      <th>2017-10-18</th>\n",
       "      <td>2561.890014</td>\n",
       "    </tr>\n",
       "    <tr>\n",
       "      <th>2017-10-19</th>\n",
       "      <td>2555.140014</td>\n",
       "    </tr>\n",
       "  </tbody>\n",
       "</table>\n",
       "<p>6754 rows × 1 columns</p>\n",
       "</div>"
      ],
      "text/plain": [
       "                   mean\n",
       "Date                   \n",
       "1991-01-02   328.600006\n",
       "1991-01-03   324.214996\n",
       "1991-01-04   320.610001\n",
       "1991-01-07   318.205001\n",
       "1991-01-08   315.380005\n",
       "...                 ...\n",
       "2017-10-13  2554.869995\n",
       "2017-10-16  2556.054932\n",
       "2017-10-17  2557.199951\n",
       "2017-10-18  2561.890014\n",
       "2017-10-19  2555.140014\n",
       "\n",
       "[6754 rows x 1 columns]"
      ]
     },
     "execution_count": 204,
     "metadata": {},
     "output_type": "execute_result"
    }
   ],
   "source": [
    "sp500_Train.iloc[1:]"
   ]
  },
  {
   "cell_type": "code",
   "execution_count": 205,
   "id": "worth-minnesota",
   "metadata": {},
   "outputs": [],
   "source": [
    "finalResult['raw'] = sp500_Train.iloc[1:]\n",
    "finalResult['predicted'] = preds.to_frame()"
   ]
  },
  {
   "cell_type": "code",
   "execution_count": 207,
   "id": "proud-lover",
   "metadata": {},
   "outputs": [],
   "source": [
    "\n",
    "finalResult['residuals'] = finalResult['raw'] - finalResult['predicted']"
   ]
  },
  {
   "cell_type": "code",
   "execution_count": 208,
   "id": "transsexual-dominican",
   "metadata": {},
   "outputs": [],
   "source": [
    "finalResult.to_csv('ARIMA_Results.csv')"
   ]
  },
  {
   "cell_type": "code",
   "execution_count": 206,
   "id": "arbitrary-tobago",
   "metadata": {},
   "outputs": [
    {
     "data": {
      "text/html": [
       "<div>\n",
       "<style scoped>\n",
       "    .dataframe tbody tr th:only-of-type {\n",
       "        vertical-align: middle;\n",
       "    }\n",
       "\n",
       "    .dataframe tbody tr th {\n",
       "        vertical-align: top;\n",
       "    }\n",
       "\n",
       "    .dataframe thead th {\n",
       "        text-align: right;\n",
       "    }\n",
       "</style>\n",
       "<table border=\"1\" class=\"dataframe\">\n",
       "  <thead>\n",
       "    <tr style=\"text-align: right;\">\n",
       "      <th></th>\n",
       "      <th>raw</th>\n",
       "      <th>predicted</th>\n",
       "      <th>residuals</th>\n",
       "    </tr>\n",
       "    <tr>\n",
       "      <th>Date</th>\n",
       "      <th></th>\n",
       "      <th></th>\n",
       "      <th></th>\n",
       "    </tr>\n",
       "  </thead>\n",
       "  <tbody>\n",
       "    <tr>\n",
       "      <th>1991-01-02</th>\n",
       "      <td>328.600006</td>\n",
       "      <td>329.194309</td>\n",
       "      <td>-0.594623</td>\n",
       "    </tr>\n",
       "    <tr>\n",
       "      <th>1991-01-03</th>\n",
       "      <td>324.214996</td>\n",
       "      <td>328.768372</td>\n",
       "      <td>-4.714633</td>\n",
       "    </tr>\n",
       "    <tr>\n",
       "      <th>1991-01-04</th>\n",
       "      <td>320.610001</td>\n",
       "      <td>323.186439</td>\n",
       "      <td>-3.934619</td>\n",
       "    </tr>\n",
       "    <tr>\n",
       "      <th>1991-01-07</th>\n",
       "      <td>318.205001</td>\n",
       "      <td>320.327705</td>\n",
       "      <td>-2.734622</td>\n",
       "    </tr>\n",
       "    <tr>\n",
       "      <th>1991-01-08</th>\n",
       "      <td>315.380005</td>\n",
       "      <td>317.958483</td>\n",
       "      <td>-3.154620</td>\n",
       "    </tr>\n",
       "    <tr>\n",
       "      <th>...</th>\n",
       "      <td>...</td>\n",
       "      <td>...</td>\n",
       "      <td>...</td>\n",
       "    </tr>\n",
       "    <tr>\n",
       "      <th>2017-10-13</th>\n",
       "      <td>2554.869995</td>\n",
       "      <td>2552.092009</td>\n",
       "      <td>2.720303</td>\n",
       "    </tr>\n",
       "    <tr>\n",
       "      <th>2017-10-16</th>\n",
       "      <td>2556.054932</td>\n",
       "      <td>2556.070895</td>\n",
       "      <td>0.855314</td>\n",
       "    </tr>\n",
       "    <tr>\n",
       "      <th>2017-10-17</th>\n",
       "      <td>2557.199951</td>\n",
       "      <td>2556.260241</td>\n",
       "      <td>0.815396</td>\n",
       "    </tr>\n",
       "    <tr>\n",
       "      <th>2017-10-18</th>\n",
       "      <td>2561.890014</td>\n",
       "      <td>2557.838373</td>\n",
       "      <td>4.360440</td>\n",
       "    </tr>\n",
       "    <tr>\n",
       "      <th>2017-10-19</th>\n",
       "      <td>2555.140014</td>\n",
       "      <td>2563.436885</td>\n",
       "      <td>-7.079623</td>\n",
       "    </tr>\n",
       "  </tbody>\n",
       "</table>\n",
       "<p>6754 rows × 3 columns</p>\n",
       "</div>"
      ],
      "text/plain": [
       "                    raw    predicted  residuals\n",
       "Date                                           \n",
       "1991-01-02   328.600006   329.194309  -0.594623\n",
       "1991-01-03   324.214996   328.768372  -4.714633\n",
       "1991-01-04   320.610001   323.186439  -3.934619\n",
       "1991-01-07   318.205001   320.327705  -2.734622\n",
       "1991-01-08   315.380005   317.958483  -3.154620\n",
       "...                 ...          ...        ...\n",
       "2017-10-13  2554.869995  2552.092009   2.720303\n",
       "2017-10-16  2556.054932  2556.070895   0.855314\n",
       "2017-10-17  2557.199951  2556.260241   0.815396\n",
       "2017-10-18  2561.890014  2557.838373   4.360440\n",
       "2017-10-19  2555.140014  2563.436885  -7.079623\n",
       "\n",
       "[6754 rows x 3 columns]"
      ]
     },
     "execution_count": 206,
     "metadata": {},
     "output_type": "execute_result"
    }
   ],
   "source": [
    "finalResult"
   ]
  },
  {
   "cell_type": "code",
   "execution_count": null,
   "id": "twelve-paper",
   "metadata": {},
   "outputs": [],
   "source": []
  }
 ],
 "metadata": {
  "kernelspec": {
   "display_name": "Python 3",
   "language": "python",
   "name": "python3"
  },
  "language_info": {
   "codemirror_mode": {
    "name": "ipython",
    "version": 3
   },
   "file_extension": ".py",
   "mimetype": "text/x-python",
   "name": "python",
   "nbconvert_exporter": "python",
   "pygments_lexer": "ipython3",
   "version": "3.8.5"
  }
 },
 "nbformat": 4,
 "nbformat_minor": 5
}
